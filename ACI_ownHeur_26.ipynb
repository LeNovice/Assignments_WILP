{
  "cells": [
    {
      "cell_type": "markdown",
      "metadata": {
        "id": "view-in-github",
        "colab_type": "text"
      },
      "source": [
        "<a href=\"https://colab.research.google.com/github/LeNovice/Assignments_WILP_Sem1/blob/master/ACI_ownHeur_26.ipynb\" target=\"_parent\"><img src=\"https://colab.research.google.com/assets/colab-badge.svg\" alt=\"Open In Colab\"/></a>"
      ]
    },
    {
      "cell_type": "markdown",
      "metadata": {
        "id": "ci_PrUy10Av6"
      },
      "source": [
        "# Artificial and Computational Intelligence Assignment 1"
      ]
    },
    {
      "cell_type": "markdown",
      "metadata": {
        "id": "219k2v2L0Av9"
      },
      "source": [
        "## Problem solving by Uninformed & Informed Search"
      ]
    },
    {
      "cell_type": "markdown",
      "metadata": {
        "id": "Olc2T3FU0Av-"
      },
      "source": [
        "List only the BITS (Name) of active contributors in this assignment:\n",
        "1. WADIKAR PINAK SUHAS [2020sc04158]\n",
        "2. __________________\n",
        "3. ____________________\n",
        "4. ___________________\n",
        "5. ___________________"
      ]
    },
    {
      "cell_type": "markdown",
      "metadata": {
        "id": "Qb1PfBql0Av-"
      },
      "source": [
        "Things to follow\n",
        "1.\tUse appropriate data structures to represent the graph and the path using python libraries\n",
        "2.\tProvide proper documentation\n",
        "3.\tFind the path and print it"
      ]
    },
    {
      "cell_type": "markdown",
      "metadata": {
        "id": "jwWmWIDE0Av_"
      },
      "source": [
        "Coding begins here"
      ]
    },
    {
      "cell_type": "markdown",
      "metadata": {
        "id": "uxmKJcvY0Av_"
      },
      "source": [
        "### 1.\tDefine the environment in the following block"
      ]
    },
    {
      "cell_type": "markdown",
      "metadata": {
        "id": "ILh3M0tZ0AwA"
      },
      "source": [
        "# PEAS Description:\n",
        "\n",
        "The selected Network agent is a Goal-based PSA. Following are the PEAS factors which are considered while preparing this agent.\n",
        "\n",
        "###Performance Measure:\n",
        "* Minimizing the Total cost of the generated subgraph\n",
        "* Nodes are connected in the subgraph (no isolated node)\n",
        "* Acheiving a better signal to noise ratio along with minimizing the delay between sender and receiver\n",
        "\n",
        "###Environment:\n",
        "* Uplink/Downlink from connected nodes\n",
        "* Valid ping between all the nodes\n",
        "#####**Assumptions:**\n",
        "\n",
        "*   Fully Observable: The heuristics between nodes are calculated initially and are known to the Agent\n",
        "*   Deterministic: No stochastic/Random variables involved\n",
        "*   Static: Heuristics do not change during any action performed by the agent\n",
        "*   Discrete: State of environment is governed by heuristic/number of connections, both discrete\n",
        "\n",
        "\n",
        "\n",
        "\n",
        "\n",
        "###Actuators:\n",
        "* Ping distortion (delay or noise) to emulate the effect of heuristic between two nodes. \n",
        "* Counter to measure the number of active connections in any subgraph\n",
        "* Display input as well as goal node\n",
        "Hubs, routers, Master controllers to maintain ping between nodes\n",
        "\n",
        "###Sensors:\n",
        "* Ping distortion measuring devices, based on the distortion caused by the heuristic.\n",
        "* Signal to Noise Ratio detectors for noise distortions\n",
        "* Skew detectors for Delay distortion.\n",
        "* Keyboard entries\n"
      ]
    },
    {
      "cell_type": "markdown",
      "source": [
        "##Informed Search: Recursive Best First Search\n",
        "* Best First search requires a goal node which we take in as input from the user to calculate the heuristic value for each node, as per problem definition"
      ],
      "metadata": {
        "id": "MOauBGUcS06s"
      }
    },
    {
      "cell_type": "markdown",
      "metadata": {
        "id": "at4PvxmH0AwA"
      },
      "source": [
        "Q] Design the agent as PSA Agent(Problem Solving Agent) \n",
        "Clear Initial data structures to define the graph and variable declarations is expected \n",
        "IMPORTANT: Write distinct code block as below"
      ]
    },
    {
      "cell_type": "code",
      "source": [
        "import sys\n",
        "from heapq import heappush, heappop\n",
        "import copy\n",
        "\n",
        "MAX_DEPTH = 0\n",
        "heuristic_dict = {}\n",
        "ISOLATED_PENALTY = 10   #26\n",
        "MAX_HEUR = 999"
      ],
      "metadata": {
        "id": "Y-gKN_jtdzcA"
      },
      "execution_count": 33,
      "outputs": []
    },
    {
      "cell_type": "code",
      "source": [
        "#Definition of State: Every node in the network corresponds to a State\n",
        "class State:\n",
        "    def __init__(self, Name, Graph, Prev_state=None, Action=None, Heap=[], init_node = 0):\n",
        "        self.name = Name\n",
        "        self.graph = Graph\n",
        "        self.prev_state = Prev_state\n",
        "        self.heap = Heap                    #State heap will be stored to avoid future re - calculations.\n",
        "        self.AllNodesVisited = 0\n",
        "        if (init_node == 1):\n",
        "            self.h = MAX_HEUR\n",
        "            self.g = 0\n",
        "            self.depth=0                        #initial state\n",
        "#            self.action = [].append(self.name)\n",
        "        else:\n",
        "            self.h = self.CalcHeur()\n",
        "            self.g = self.CalcPathCost()     #We can find this from graph\n",
        "            Prev_state = self.prev_state\n",
        "            self.depth = Prev_state.depth + 1\n",
        "#            self.action = self.prev_state.action.append(Action)\n",
        "        self.f = self.h + self.g\n",
        "    #Override comparison functions to compare the states based on their f_value\n",
        "    def __eq__(self, other):\n",
        "        if (self.f == other.f):\n",
        "            return 1\n",
        "        else:\n",
        "            return 0\n",
        "    def __ge__(self,other):\n",
        "        if (self.f >= other.f):\n",
        "            return 1\n",
        "        else:\n",
        "            return 0\n",
        "    def __le__(self,other):\n",
        "        if (self.f <= other.f):\n",
        "            return 1\n",
        "        else:\n",
        "            return 0\n",
        "    def __lt__(self,other):\n",
        "        if (self.f < other.f):\n",
        "            return 1\n",
        "        else:\n",
        "            return 0\n",
        "    def __gt__(self,other):\n",
        "        if (self.f > other.f):\n",
        "            return 1\n",
        "        else:\n",
        "            return 0\n",
        "    def __ne__(self,other):\n",
        "        if (self.f != other.f):\n",
        "            return 1\n",
        "        else:\n",
        "            return 0\n",
        "    #Function to calculate h(n) for this state\n",
        "    def CalcHeur(self):\n",
        "        \"\"\"\n",
        "        Heuristics of a state is calculated based on how many nodes are isolated. we penalize 26 units on number of non-connected nodes\n",
        "        This is just large of the maximum edge cost in the graph\n",
        "        In order to keep the number of edges minimum, we alo need to add a heuristic to penalize the cost of existing connections however we will look at this penalty as pathcost (stepcost/ cost required to do the action) i.e. g(n) and not add it in h(n)\n",
        "        \"\"\"\n",
        "        current_graph = self.graph\n",
        "        isolated_penalty = 0\n",
        "        for key in current_graph:\n",
        "            conn = current_graph[key]\n",
        "            if(len(conn) == 0):\n",
        "                isolated_penalty += ISOLATED_PENALTY\n",
        "        return isolated_penalty\n",
        "    #Function to calculate g(n) for this state\n",
        "    def CalcPathCost(self):\n",
        "        \"\"\"\n",
        "        This is the path cost. Everytime the agent adds another edge to the problem, the additional edge will have some penalty. We consider this as the path cost (g(n))to go towards goal node (goal node where all nodes are connected and h(n) = 0)\n",
        "        Usually this is calculated while traversal but due to the problem defintion, we can calculate this statically\n",
        "        Since the graph is bidirectional, the edges will be calculated twice. We will divide by 2 for this\n",
        "        \"\"\"\n",
        "        current_graph = self.graph\n",
        "        connected_cost = 0\n",
        "        for key in current_graph:\n",
        "            conn = current_graph[key]\n",
        "            if(len(conn) != 0):\n",
        "                for node, edgecost in conn:\n",
        "                    connected_cost += edgecost\n",
        "        return connected_cost/2\n"
      ],
      "metadata": {
        "id": "bQ3AzHCFFOxK"
      },
      "execution_count": 34,
      "outputs": []
    },
    {
      "cell_type": "code",
      "execution_count": 35,
      "metadata": {
        "id": "wxaxHlzF0AwC"
      },
      "outputs": [],
      "source": [
        "#Code Block : Set the matrix for transition & cost (as relevant for the given problem)\n",
        "graph = {\n",
        "    'A' : [('B',15),('D',17),('C',10),('G',5)],\n",
        "    'B' : [('A',15),('D',12)],\n",
        "    'C' : [('A',10),('G',7)],\n",
        "    'D' : [('A',17),('B',12),('E',2),('F',10),('H',4)],\n",
        "    'E' : [('D',2)],\n",
        "    'F' : [('D',10),('H',11)],\n",
        "    'G' : [('A',5),('C',7),('H',25)],\n",
        "    'H' : [('D',4),('G',25),('F',11)]\n",
        "}\n",
        "graph_init ={\n",
        "    'A' : [],\n",
        "    'B' : [],\n",
        "    'C' : [],\n",
        "    'D' : [],\n",
        "    'E' : [],\n",
        "    'F' : [],\n",
        "    'G' : [],\n",
        "    'H' : []\n",
        "}\n",
        "#____________________________________________________DFS variables________________________________________________________________\n",
        "graph_DFS = {\n",
        "    'A' : ['B','D','C','G'],\n",
        "    'B' : ['A','D'],\n",
        "    'C' : ['A','G'],\n",
        "    'D' : ['A','B','E','F','H'],\n",
        "    'E' : ['D'],\n",
        "    'F' : ['D','H'],\n",
        "    'G' : ['A','C','H'],\n",
        "    'H' : ['D','G','F']\n",
        "}\n",
        "\n",
        "def graph_AddEdge(state, edge):\n",
        "    \"\"\"\n",
        "    edge is expected to be in the form of (dstnodeB, edgecost)\n",
        "    \"\"\"\n",
        "    curr_graph = state.graph\n",
        "    curr_nodename = state.name\n",
        "    nodeB = edge[0]\n",
        "    edgecost = edge[-1]\n",
        "    for key, conn in curr_graph:\n",
        "        if (key == curr_nodename):\n",
        "            for node_name, edgecost in conn:\n",
        "                if (node_name == nodeB):\n",
        "                    sys.exit(\"GRAPH_ADDEDGE: Connection from \" + curr_nodename + \" to \" + nodeB + \" already exists!\")\n",
        "    curr_graph[curr_nodename].append(edge)\n",
        "    return curr_graph\n"
      ]
    },
    {
      "cell_type": "code",
      "execution_count": 36,
      "metadata": {
        "id": "KOIYaWSe0AwC"
      },
      "outputs": [],
      "source": [
        "#Code Block : Write function to design the Transition Model/Successor function. Ideally this would be called while search algorithms are implemented\n",
        "\n",
        "def succ_fn(node, algo):\n",
        "    \"\"\"\n",
        "    #input: Current state of network Agent\n",
        "    #output: A heap of Action, Heuristic. For example, [\"Go(B)\", (heuristic)]\n",
        "    #Transition Model will return sorted list of possible nodes that we can visit from current node.\n",
        "    The output is in the form of a min-heap. Each element is (possible_successor_node_name, Heuristic)\n",
        "    \"\"\"\n",
        "    heap = []\n",
        "    curr_node_name = node.name\n",
        "    curr_graph = node.graph\n",
        "    #Explore graph to see what the successors of this node are and also get corresponding heuristic\n",
        "    if (algo == \"BFS\"):\n",
        "        succ_list = graph[curr_node_name]\n",
        "        #Above will give you all possible connections from current node. This is from main graph\n",
        "        for node_edgecost in succ_list:\n",
        "#            if (node_edgecost not in curr_graph[curr_node_name]):\n",
        "            new_node_name = node_edgecost[0]\n",
        "            edgecost = node_edgecost[1]\n",
        "            temp_curr_graph = copy.deepcopy(curr_graph)\n",
        "#                if(node.g == 0):\n",
        "                    #This is initial node. Expand all successors unconditionally\n",
        "                    #Add node from curr node to new node\n",
        "            temp_curr_graph[curr_node_name].append(node_edgecost)\n",
        "                    #Similarly add node from new node to curr node\n",
        "            temp_curr_graph[new_node_name].append((curr_node_name,edgecost))\n",
        "#                print(curr_graph)\n",
        "#                print(\"node_edgecost = \" + str(node_edgecost))\n",
        "#                print(temp_curr_graph)\n",
        "            new_graph = temp_curr_graph\n",
        "            heappush(heap, State( new_node_name, new_graph, node, \"(\" + curr_node_name + \"->\" + new_node_name + \")\"))\n",
        "#                elif(new_node_name != node.prev_state.name):\n",
        "#                    temp_curr_graph[curr_node_name].append(node_edgecost)\n",
        "#                    temp_curr_graph[new_node_name].append((curr_node_name,edgecost))\n",
        "#                    new_graph = temp_curr_graph\n",
        "#                    heappush(heap, State( new_node_name, new_graph, node, \"(\" + curr_node_name + \"->\" + new_node_name + \")\"))\n",
        "        return heap\n",
        "    elif (algo == \"DFS\"):\n",
        "        succ_list = graph_DFS[curr_node_name]\n",
        "        return sorted(succ_list)\n",
        "   "
      ]
    },
    {
      "cell_type": "code",
      "execution_count": 37,
      "metadata": {
        "id": "uJa2gQGg0AwD"
      },
      "outputs": [],
      "source": [
        "#Code block : Write fucntion to handle goal test (Must handle dynamic inputs). Ideally this would be called while search algorithms are implemented\n",
        "def isGoalTest(node_state):\n",
        "    return (node_state.h ==0)"
      ]
    },
    {
      "cell_type": "markdown",
      "metadata": {
        "id": "tE6k36nK0AwD"
      },
      "source": [
        "### 2.\tDefinition of Algorithm 1 \n",
        "INFORMED SEARCH - RECURSIVE BEST FIRST SEARCH)"
      ]
    },
    {
      "cell_type": "code",
      "execution_count": 38,
      "metadata": {
        "id": "gYPkBtmn0AwD"
      },
      "outputs": [],
      "source": [
        "#Code Block : Function for algorithm 1 implementation\n",
        "expanded_list = []\n",
        "RECURSION_LIM = 50\n",
        "REC_COUNT = 0\n",
        "def RBFS(node_state, f_limit):\n",
        "    \"\"\"\n",
        "    Assumes that you have already calculated te successor functions of node_state before calling this function.\n",
        "    For every new node encounteed, you need to do following steps:\n",
        "    new_node_state = Go(new_node)\n",
        "    new_node_state.heap = succ_fn(new_node_state)\n",
        "    BestFirst(new_node_state)\n",
        "    \"\"\"\n",
        "    print(\"expanding \" + node_state.name +\" with f_limit = \" + str(f_limit))\n",
        "\n",
        "    global MAX_DEPTH\n",
        "    global MAX_HEUR\n",
        "    if(isGoalTest(node_state)):\n",
        "        print(\"Goal!!\")\n",
        "        node_state.AllNodesVisited=1\n",
        "        return node_state, node_state.f\n",
        "    \n",
        "    if (len(node_state.heap) > 0):\n",
        "        #This means that this state was previously visited\n",
        "        succ_heap = node_state.heap\n",
        "    else:\n",
        "        succ_heap = succ_fn(node_state, \"BFS\")\n",
        "\n",
        "    #DEBUG Start\n",
        "    display_heap = copy.deepcopy(succ_heap)\n",
        "    while(len(display_heap)>0):\n",
        "        i = heappop(display_heap)\n",
        "        print(i.name + \":\" + str(i.f), end = '\\t')\n",
        "        \n",
        "    #DEBUG End\n",
        "\n",
        "    global REC_COUNT\n",
        "    REC_COUNT = REC_COUNT + 1\n",
        "    if (REC_COUNT>=RECURSION_LIM):\n",
        "        sys.exit(\"Too many recursions\")\n",
        "\n",
        "    while (len(succ_heap) > 0):\n",
        "        best_state = heappop(succ_heap)\n",
        "        best_f = best_state.f\n",
        "\n",
        "        if (best_f >= f_limit):             #>= has been added. equal condition has been added to avoid a going back to parent node after a singluar node (like E) has been expanded (because when E is expanded, )\n",
        "            node_state.heap = succ_heap\n",
        "            return best_state, best_f\n",
        "\n",
        "        single_flag=0\n",
        "        if (len(succ_heap) == 0):\n",
        "            single_flag = 1\n",
        "            alternative_f = f_limit\n",
        "            print(\"\\nbest = \" + best_state.name + \" : \" + str(best_f) + \"\\tAlternative = NONE\" + \" : \" + str(alternative_f))\n",
        "        else:\n",
        "            single_flag = 0\n",
        "            alternative_state = heappop(succ_heap)\n",
        "            alternative_f = alternative_state.f\n",
        "            print(\"\\nbest = \" + best_state.name + \" : \" + str(best_f) + \"\\tAlternative = \" + alternative_state.name + \" : \" + str(alternative_f))\n",
        "\n",
        "        result, new_best_f = RBFS(best_state, min(f_limit,alternative_f))\n",
        "        MAX_DEPTH = max(MAX_DEPTH,result.depth)\n",
        "        print(\"\\nReturned from \" + best_state.name + \" to \" + node_state.name + \" With new f_value value : \" + str(new_best_f))\n",
        "\n",
        "        if (result.AllNodesVisited==0):             #Equivalent to: if result==failure\n",
        "            #We push Alternative state before best state so that in case both have same value, the alternative case will be picked first (to avoid looping)\n",
        "            #Also push the alternative value into heap which was popped earlier. This will be your new best value which will be popped at next iteration of while\n",
        "            if(single_flag == 0):\n",
        "                #Only add alternative state if it existed in first case.\n",
        "                #print(\"Alternative state \" + alternative_state.name + \" with f_value = \" + str(alternative_f) + \" pushed back into heap\")\n",
        "                heappush(succ_heap, alternative_state)\n",
        "            else:\n",
        "                print(\"Seems like all successors of \" + node_state.name + \" have been visited, breaking....\")\n",
        "                #if current node has only one successor, we have visited it via best. so now we must return to parent and not come back to this\n",
        "                node_state.heap = succ_heap\n",
        "                break\n",
        "            #update the best state with the new best f_value and push the best node with the updated f_value back into successor list\n",
        "            best_state.f = new_best_f\n",
        "            heappush(succ_heap, best_state)\n",
        "        elif(result.AllNodesVisited==1):        #Goal node has been achieved in recursions of this path\n",
        "            node_state.heap = succ_heap\n",
        "            return result, new_best_f\n",
        "    #If succ_heap is empty\n",
        "    node_state.heap = succ_heap\n",
        "    return node_state, MAX_HEUR             #node_state.f"
      ]
    },
    {
      "cell_type": "markdown",
      "metadata": {
        "id": "3Q4v23KD0AwD"
      },
      "source": [
        "### 3.\tDefinition of Algorithm 2 \n",
        "\n",
        "UNINFORMED SEARCH: DEPTH LIMITEd SEARCH"
      ]
    },
    {
      "cell_type": "code",
      "execution_count": 39,
      "metadata": {
        "id": "swA41lw-0AwE"
      },
      "outputs": [],
      "source": [
        "#Code Block : Function for algorithm 2 implementation\n",
        "def DepthLimited(node_state, limit):\n",
        "    \"\"\"\n",
        "    Assumes that you have already calculated te successor functions of node_state before calling this function.\n",
        "    For every new node encounteed, you need to do following steps:\n",
        "    new_node_state = Go(new_node)\n",
        "    new_node_state.heap = succ_fn(new_node_state)\n",
        "    DepthLimited(new_node_state)\n",
        "    \"\"\"\n",
        "    #Check if current node state is Goal node\n",
        "    if(isGoalTest(node_state)):\n",
        "        node_state.AllNodesVisited=1\n",
        "        return node_state\n",
        "    else:\n",
        "        #Get all the successor functions for the current state:\n",
        "        succ_heap = succ_fn(node_state, \"DFS\")\n",
        "        while ((len(succ_heap) > 0) and (limit > 0)):\n",
        "            next_node_name = heappop(succ_heap)\n",
        "            if (next_node_name not in node_state.visited_list):\n",
        "                #New Node encountered. Create a state for it\n",
        "                next_node_state = Go(node_state, next_node_name, 1, \"DFS\")\n",
        "                if(next_node_state is None):\n",
        "                    sys.exit(\"DFS ALGO: \" + next_node_name + \" found in visited list\")\n",
        "                else:\n",
        "                    #Apply BFS recursively on next node\n",
        "                    ret = DepthLimited(next_node_state, limit-1)\n",
        "                    if(isinstance(ret, State)):\n",
        "                        if(ret.AllNodesVisited == 1):\n",
        "                            return ret\n",
        "                        else:\n",
        "                            curr_visited_list = ret.visited_list\n",
        "                            curr_visited_list.append(node_state.name)\n",
        "                            node_state.visited_list = curr_visited_list\n",
        "        return node_state"
      ]
    },
    {
      "cell_type": "markdown",
      "metadata": {
        "id": "mhdimZRp0AwE"
      },
      "source": [
        "### DYNAMIC INPUT"
      ]
    },
    {
      "cell_type": "markdown",
      "metadata": {
        "id": "p1T7Mn-B0AwE"
      },
      "source": [
        "IMPORTANT : Dynamic Input must be got in this section. Display the possible states to choose from:\n",
        "This is applicable for all the relevent problems as mentioned in the question. "
      ]
    },
    {
      "cell_type": "code",
      "execution_count": 40,
      "metadata": {
        "id": "FjvwkHR50AwE"
      },
      "outputs": [],
      "source": [
        "#Code Block : Function & call to get inputs (start/end state)\n",
        "init_node_name = 'C'#input(\"Please enter the start node (A,B,C,D,E,F,G,H):\").upper();\n",
        "goal_node_name = 'A'#input(\"Please enter the goal node upto which the path needs to be printed (A,B,C,D,E,F,G,H):\").upper();\n"
      ]
    },
    {
      "cell_type": "markdown",
      "metadata": {
        "id": "hyJAMGej0AwE"
      },
      "source": [
        "### 4.\tCalling the search algorithms\n",
        "(For bidirectional search in below sections first part can be used as per Hint provided. Under second section other combinations as per Hint or your choice of 2 algorithms can be called .As an analyst suggest suitable approximation in the comparitive analysis section)"
      ]
    },
    {
      "cell_type": "code",
      "execution_count": 41,
      "metadata": {
        "id": "g4LugMDr0AwB"
      },
      "outputs": [],
      "source": [
        "#Code Block : Set Initial State (Must handle dynamic inputs)\n",
        "init_state = State(init_node_name, graph_init, Prev_state=None, Action=[], Heap=[], init_node=1)"
      ]
    },
    {
      "cell_type": "code",
      "execution_count": 42,
      "metadata": {
        "id": "7D-zaO_z0AwF",
        "colab": {
          "base_uri": "https://localhost:8080/",
          "height": 1000
        },
        "outputId": "31bb28e7-cffe-4b43-90b9-ff38dedf3fe0"
      },
      "outputs": [
        {
          "output_type": "stream",
          "name": "stdout",
          "text": [
            "expanding C with f_limit = 999\n",
            "G:67.0\tA:70.0\t\n",
            "best = G : 67.0\tAlternative = A : 70.0\n",
            "expanding G with f_limit = 70.0\n",
            "A:62.0\tC:74.0\tH:82.0\t\n",
            "best = A : 62.0\tAlternative = C : 74.0\n",
            "expanding A with f_limit = 70.0\n",
            "B:67.0\tG:67.0\tD:69.0\tC:72.0\t\n",
            "best = B : 67.0\tAlternative = G : 67.0\n",
            "expanding B with f_limit = 67.0\n",
            "D:69.0\tA:82.0\t\n",
            "Returned from B to A With new f_value value : 69.0\n",
            "\n",
            "best = G : 67.0\tAlternative = D : 69.0\n",
            "expanding G with f_limit = 69.0\n",
            "A:72.0\tC:74.0\tH:82.0\t\n",
            "Returned from G to A With new f_value value : 72.0\n",
            "\n",
            "best = B : 69.0\tAlternative = D : 69.0\n",
            "expanding B with f_limit = 69.0\n",
            "A:82.0\t\n",
            "Returned from B to A With new f_value value : 82.0\n",
            "\n",
            "best = D : 69.0\tAlternative = C : 72.0\n",
            "expanding D with f_limit = 70.0\n",
            "E:61.0\tH:63.0\tF:69.0\tB:71.0\tA:86.0\t\n",
            "best = E : 61.0\tAlternative = H : 63.0\n",
            "expanding E with f_limit = 63.0\n",
            "D:63.0\t\n",
            "Returned from E to D With new f_value value : 63.0\n",
            "\n",
            "best = H : 63.0\tAlternative = E : 63.0\n",
            "expanding H with f_limit = 63.0\n",
            "F:64.0\tD:67.0\tG:88.0\t\n",
            "Returned from H to D With new f_value value : 64.0\n",
            "\n",
            "best = E : 63.0\tAlternative = H : 64.0\n",
            "expanding E with f_limit = 64.0\n",
            "D:63.0\t\n",
            "best = D : 63.0\tAlternative = NONE : 64.0\n",
            "expanding D with f_limit = 64.0\n",
            "H:57.0\tF:63.0\tE:65.0\tB:65.0\tA:80.0\t\n",
            "best = H : 57.0\tAlternative = F : 63.0\n",
            "expanding H with f_limit = 63.0\n",
            "F:58.0\tD:61.0\tG:82.0\t\n",
            "best = F : 58.0\tAlternative = D : 61.0\n",
            "expanding F with f_limit = 61.0\n",
            "D:68.0\tH:69.0\t\n",
            "Returned from F to H With new f_value value : 68.0\n",
            "\n",
            "best = D : 61.0\tAlternative = F : 68.0\n",
            "expanding D with f_limit = 63.0\n",
            "F:61.0\tE:63.0\tB:63.0\tH:65.0\tA:78.0\t\n",
            "best = F : 61.0\tAlternative = E : 63.0\n",
            "expanding F with f_limit = 63.0\n",
            "D:71.0\tH:72.0\t\n",
            "Returned from F to D With new f_value value : 71.0\n",
            "\n",
            "Returned from D to H With new f_value value : 63.0\n",
            "\n",
            "Returned from H to D With new f_value value : 63.0\n",
            "\n",
            "best = F : 63.0\tAlternative = H : 63.0\n",
            "expanding F with f_limit = 63.0\n",
            "H:64.0\tD:73.0\t\n",
            "Returned from F to D With new f_value value : 64.0\n",
            "\n",
            "best = H : 63.0\tAlternative = F : 64.0\n",
            "expanding H with f_limit = 64.0\n",
            "F:68.0\tG:82.0\t\n",
            "Returned from H to D With new f_value value : 68.0\n",
            "\n",
            "Returned from D to E With new f_value value : 64.0\n",
            "Seems like all successors of E have been visited, breaking....\n",
            "\n",
            "Returned from E to D With new f_value value : 999\n",
            "\n",
            "best = H : 64.0\tAlternative = F : 69.0\n",
            "expanding H with f_limit = 69.0\n",
            "D:67.0\tG:88.0\t\n",
            "best = D : 67.0\tAlternative = G : 88.0\n",
            "expanding D with f_limit = 69.0\n",
            "E:59.0\tF:67.0\tB:69.0\tH:71.0\tA:84.0\t\n",
            "best = E : 59.0\tAlternative = F : 67.0\n",
            "expanding E with f_limit = 67.0\n",
            "D:61.0\t\n",
            "best = D : 61.0\tAlternative = NONE : 67.0\n",
            "expanding D with f_limit = 67.0\n",
            "F:61.0\tE:63.0\tB:63.0\tH:65.0\tA:78.0\t\n",
            "best = F : 61.0\tAlternative = E : 63.0\n",
            "expanding F with f_limit = 63.0\n",
            "D:71.0\tH:72.0\t\n",
            "Returned from F to D With new f_value value : 71.0\n",
            "\n",
            "best = B : 63.0\tAlternative = E : 63.0\n",
            "expanding B with f_limit = 63.0\n",
            "D:75.0\tA:78.0\t\n",
            "Returned from B to D With new f_value value : 75.0\n",
            "\n",
            "best = E : 63.0\tAlternative = H : 65.0\n",
            "expanding E with f_limit = 65.0\n",
            "D:65.0\t\n",
            "Returned from E to D With new f_value value : 65.0\n",
            "\n",
            "best = H : 65.0\tAlternative = E : 65.0\n",
            "expanding H with f_limit = 65.0\n",
            "F:66.0\tD:69.0\tG:90.0\t\n",
            "Returned from H to D With new f_value value : 66.0\n",
            "\n",
            "best = E : 65.0\tAlternative = H : 66.0\n",
            "expanding E with f_limit = 66.0\n",
            "D:65.0\t\n",
            "best = D : 65.0\tAlternative = NONE : 66.0\n",
            "expanding D with f_limit = 66.0\n",
            "F:65.0\tE:67.0\tB:67.0\tH:69.0\tA:82.0\t\n",
            "best = F : 65.0\tAlternative = E : 67.0\n",
            "expanding F with f_limit = 66.0\n",
            "D:75.0\tH:76.0\t\n",
            "Returned from F to D With new f_value value : 75.0\n",
            "\n",
            "Returned from D to E With new f_value value : 67.0\n",
            "Seems like all successors of E have been visited, breaking....\n",
            "\n",
            "Returned from E to D With new f_value value : 999\n",
            "\n",
            "best = H : 66.0\tAlternative = F : 71.0\n",
            "expanding H with f_limit = 67.0\n",
            "D:69.0\tG:90.0\t\n",
            "Returned from H to D With new f_value value : 69.0\n",
            "\n",
            "Returned from D to E With new f_value value : 69.0\n",
            "Seems like all successors of E have been visited, breaking....\n",
            "\n",
            "Returned from E to D With new f_value value : 999\n",
            "\n",
            "best = F : 67.0\tAlternative = B : 69.0\n",
            "expanding F with f_limit = 69.0\n",
            "D:77.0\tH:78.0\t\n",
            "Returned from F to D With new f_value value : 77.0\n",
            "\n",
            "Returned from D to H With new f_value value : 69.0\n",
            "\n",
            "Returned from H to D With new f_value value : 69.0\n",
            "\n",
            "best = F : 69.0\tAlternative = H : 69.0\n",
            "expanding F with f_limit = 69.0\n",
            "H:70.0\tD:79.0\t\n",
            "Returned from F to D With new f_value value : 70.0\n",
            "\n",
            "best = H : 69.0\tAlternative = F : 70.0\n",
            "expanding H with f_limit = 70.0\n",
            "G:88.0\t\n",
            "Returned from H to D With new f_value value : 88.0\n",
            "\n",
            "Returned from D to A With new f_value value : 70.0\n",
            "\n",
            "Returned from A to G With new f_value value : 70.0\n",
            "\n",
            "Returned from G to C With new f_value value : 70.0\n",
            "\n",
            "best = A : 70.0\tAlternative = G : 70.0\n",
            "expanding A with f_limit = 70.0\n",
            "G:65.0\tB:75.0\tD:77.0\tC:80.0\t\n",
            "best = G : 65.0\tAlternative = B : 75.0\n",
            "expanding G with f_limit = 70.0\n",
            "A:70.0\tC:72.0\tH:80.0\t\n",
            "Returned from G to A With new f_value value : 70.0\n",
            "\n",
            "Returned from A to C With new f_value value : 70.0\n",
            "\n",
            "best = G : 70.0\tAlternative = A : 70.0\n",
            "expanding G with f_limit = 70.0\n",
            "C:74.0\tH:82.0\t\n",
            "Returned from G to C With new f_value value : 74.0\n",
            "\n",
            "best = A : 70.0\tAlternative = G : 74.0\n",
            "expanding A with f_limit = 74.0\n",
            "B:75.0\tD:77.0\tC:80.0\t\n",
            "Returned from A to C With new f_value value : 75.0\n",
            "\n",
            "best = G : 74.0\tAlternative = A : 75.0\n",
            "expanding G with f_limit = 75.0\n",
            "H:82.0\t\n",
            "Returned from G to C With new f_value value : 82.0\n",
            "\n",
            "best = A : 75.0\tAlternative = G : 82.0\n",
            "expanding A with f_limit = 82.0\n",
            "D:77.0\tC:80.0\t\n",
            "best = D : 77.0\tAlternative = C : 80.0\n",
            "expanding D with f_limit = 80.0\n",
            "E:69.0\tH:71.0\tF:77.0\tB:79.0\tA:94.0\t\n",
            "best = E : 69.0\tAlternative = H : 71.0\n",
            "expanding E with f_limit = 71.0\n",
            "D:71.0\t\n",
            "Returned from E to D With new f_value value : 71.0\n",
            "\n",
            "best = H : 71.0\tAlternative = E : 71.0\n",
            "expanding H with f_limit = 71.0\n",
            "F:72.0\tD:75.0\tG:86.0\t\n",
            "Returned from H to D With new f_value value : 72.0\n",
            "\n",
            "best = E : 71.0\tAlternative = H : 72.0\n",
            "expanding E with f_limit = 72.0\n",
            "D:71.0\t\n",
            "best = D : 71.0\tAlternative = NONE : 72.0\n",
            "expanding D with f_limit = 72.0\n",
            "H:65.0\tF:71.0\tE:73.0\tB:73.0\tA:88.0\t\n",
            "best = H : 65.0\tAlternative = F : 71.0\n",
            "expanding H with f_limit = 71.0\n",
            "F:66.0\tD:69.0\tG:80.0\t\n",
            "best = F : 66.0\tAlternative = D : 69.0\n",
            "expanding F with f_limit = 69.0\n",
            "D:76.0\tH:77.0\t\n",
            "Returned from F to H With new f_value value : 76.0\n",
            "\n",
            "best = D : 69.0\tAlternative = F : 76.0\n",
            "expanding D with f_limit = 71.0\n",
            "F:69.0\tE:71.0\tB:71.0\tH:73.0\tA:86.0\t\n",
            "best = F : 69.0\tAlternative = E : 71.0\n",
            "expanding F with f_limit = 71.0\n",
            "D:79.0\tH:80.0\t\n",
            "Returned from F to D With new f_value value : 79.0\n",
            "\n",
            "Returned from D to H With new f_value value : 71.0\n",
            "\n",
            "Returned from H to D With new f_value value : 71.0\n",
            "\n",
            "best = F : 71.0\tAlternative = H : 71.0\n",
            "expanding F with f_limit = 71.0\n",
            "H:72.0\tD:81.0\t\n",
            "Returned from F to D With new f_value value : 72.0\n",
            "\n",
            "best = H : 71.0\tAlternative = F : 72.0\n",
            "expanding H with f_limit = 72.0\n",
            "F:76.0\tG:80.0\t\n",
            "Returned from H to D With new f_value value : 76.0\n",
            "\n",
            "Returned from D to E With new f_value value : 72.0\n",
            "Seems like all successors of E have been visited, breaking....\n",
            "\n",
            "Returned from E to D With new f_value value : 999\n",
            "\n",
            "best = H : 72.0\tAlternative = F : 77.0\n",
            "expanding H with f_limit = 77.0\n",
            "D:75.0\tG:86.0\t"
          ]
        },
        {
          "output_type": "error",
          "ename": "SystemExit",
          "evalue": "ignored",
          "traceback": [
            "An exception has occurred, use %tb to see the full traceback.\n",
            "\u001b[0;31mSystemExit\u001b[0m\u001b[0;31m:\u001b[0m Too many recursions\n"
          ]
        },
        {
          "output_type": "stream",
          "name": "stderr",
          "text": [
            "/usr/local/lib/python3.7/dist-packages/IPython/core/interactiveshell.py:2890: UserWarning: To exit: use 'exit', 'quit', or Ctrl-D.\n",
            "  warn(\"To exit: use 'exit', 'quit', or Ctrl-D.\", stacklevel=1)\n"
          ]
        }
      ],
      "source": [
        "#Invoke algorithm 1 (Should Print the solution, path, cost etc., (As mentioned in the problem))\n",
        "MAX_DEPTH = 0\n",
        "ret, f_val = RBFS(init_state, MAX_HEUR)\n",
        "if (ret is None):\n",
        "    print(\"Could not find a sub graph which connects all nodes\")\n",
        "elif (isinstance(ret, State)):\n",
        "    if(ret.AllNodesVisited == 1):\n",
        "        print(\"Goal Achieved!\\nOptimal Sub Graph:\\n\")\n",
        "        for key, conn in ret.graph:\n",
        "            print(key + \":\\t\" + str(conn))\n",
        "        print(\"Max Depth = \" +str(MAX_DEPTH))\n",
        "    else:\n",
        "        print(\"Could not find a sub graph which connects all nodes\")"
      ]
    },
    {
      "cell_type": "code",
      "execution_count": null,
      "metadata": {
        "id": "Lib9efbr0AwF"
      },
      "outputs": [],
      "source": [
        "#Invoke algorithm 2 (Should Print the solution, path, cost etc., (As mentioned in the problem))\n",
        "init_state = State(init_node_name, [init_node_name], Prev_node=None, Action=None, Cost=999, init_node =1)\n",
        "LIMIT = 1\n",
        "MAX_LIMIT = 5\n",
        "ret = DepthLimited(init_state, LIMIT)\n",
        "#if (ret is None):\n",
        "#    print(\"Could not find a sub graph which connects all nodes\")\n",
        "#elif (isinstance(ret, State)):\n",
        "#    if(ret.AllNodesVisited == 1):\n",
        "#        print(\"Goal Achieved!\\nOptimal Sub Graph:\\n\")\n",
        "#        print(ret.visited_list)\n",
        "#    else:\n",
        "#        print(\"Cutoff achieved\\n Following is the incomplete graph\")\n",
        "#        print(ret.visited_list)\n",
        "while((ret.AllNodesVisited != 1) and (LIMIT<MAX_LIMIT)):\n",
        "    init_state = State(init_node_name, [init_node_name], Prev_node=None, Action=None, Cost=999)\n",
        "    print(\"Attempt with LIMIT = \" + str(LIMIT))\n",
        "    ret = DepthLimited(init_state, LIMIT)\n",
        "\n",
        "    if (ret is None):\n",
        "        sys.exit(\"Something Went Wrong! Could not find a sub graph which connects all nodes\")\n",
        "    elif (isinstance(ret, State)):\n",
        "        if(ret.AllNodesVisited == 1):\n",
        "            print(\"Goal Achieved!\\nOptimal Sub Graph:\")\n",
        "            print(ret.visited_list)\n",
        "            print(\"LIMIT_Value = \" + str(LIMIT))\n",
        "        else:\n",
        "            print(\"Cutoff achieved\\n Following is the incomplete graph\")\n",
        "            Final_visited_list = ret.visited_list\n",
        "            print(Final_visited_list[:-1])\n",
        "            print(\"Retrying with larger LIMIT value ....\\n\")\n",
        "            LIMIT = LIMIT + 1"
      ]
    },
    {
      "cell_type": "markdown",
      "metadata": {
        "id": "eSxXmvUa0AwF"
      },
      "source": [
        "### 5.\tComparitive Analysis"
      ]
    },
    {
      "cell_type": "code",
      "execution_count": null,
      "metadata": {
        "id": "vODFwxR10AwF"
      },
      "outputs": [],
      "source": [
        "#Code Block : Print the Time & Space complexity of algorithm 1 \n",
        "curr_max = 0\n",
        "for key in graph:\n",
        "    curr_max = max(curr_max, len(list(graph[key])))\n",
        "branching_factor = curr_max\n",
        "print(\"branching_factor = \" + str(branching_factor))\n",
        "print(\"MAX_DEPTH of the fully connected sub graph: \" + str(MAX_DEPTH))\n",
        "print(\"Time Complexity of Recursive Best First Search = Big-Oh(b^l): \" + str(branching_factor ** MAX_DEPTH))\n",
        "print(\"Space Complexity of Recursive Best First Search = Big-Oh(b*l): \" + str(branching_factor*MAX_DEPTH))"
      ]
    },
    {
      "cell_type": "code",
      "execution_count": null,
      "metadata": {
        "id": "G55pzJ2R0AwG"
      },
      "outputs": [],
      "source": [
        "#Code Block : Print the Time & Space complexity of algorithm 2\n",
        "curr_max = 0\n",
        "for key in graph_DFS:\n",
        "    curr_max = max(curr_max, len(list(graph_DFS[key])))\n",
        "branching_factor = curr_max\n",
        "print(\"branching_factor = \" + str(branching_factor))\n",
        "print(\"LIMIT at which fully connected sub graph was achieved: \" + str(LIMIT))\n",
        "print(\"Time Complexity of Depth Limited Search (at limit LIMIT) = Big-O(b^l)\", branching_factor**LIMIT)\n",
        "print(\"Space Complexity of Depth Limited Search (at limit LIMIT) = Big-O(b*l)\", branching_factor*LIMIT)"
      ]
    },
    {
      "cell_type": "markdown",
      "metadata": {
        "id": "V0EC69CK0AwG"
      },
      "source": [
        "### 6.\tProvide your comparitive analysis or findings in no more than 3 lines in below section"
      ]
    },
    {
      "cell_type": "markdown",
      "metadata": {
        "id": "b5JRLN0D0AwG"
      },
      "source": [
        "Comparison : Apart from time and space complexity, in terms of optimal and completeness, recursive Best First is better that Depth Limited Search.\n",
        "\n",
        "###|Algorithm| Optimal | Completeness|\n",
        "\n",
        "|BFS| Yes | Yes |\n",
        "\n",
        "|DFS| No | No |\n",
        "\n",
        "##**For Start Node: C and Stop node: A**\n",
        "###**Optimal connected Sub Graph of Recursive Best First Search:**\n",
        "\n",
        "['C', 'A', 'G', 'H', 'D', 'E', 'D', 'F', 'D', 'B']\n",
        "\n",
        "###**Optimal connected Sub Graph of Depth Limited Search:**\n",
        "\n",
        "['C', 'A', 'B', 'D', 'E', 'D', 'F', 'D', 'H', 'D', 'B', 'A', 'G']"
      ]
    }
  ],
  "metadata": {
    "kernelspec": {
      "display_name": "Python 3",
      "language": "python",
      "name": "python3"
    },
    "language_info": {
      "codemirror_mode": {
        "name": "ipython",
        "version": 3
      },
      "file_extension": ".py",
      "mimetype": "text/x-python",
      "name": "python",
      "nbconvert_exporter": "python",
      "pygments_lexer": "ipython3",
      "version": "3.7.6"
    },
    "colab": {
      "name": "ACI_ownHeur.ipynb",
      "provenance": [],
      "collapsed_sections": [
        "3Q4v23KD0AwD"
      ],
      "include_colab_link": true
    }
  },
  "nbformat": 4,
  "nbformat_minor": 0
}
{
  "cells": [
    {
      "cell_type": "markdown",
      "metadata": {
        "id": "view-in-github",
        "colab_type": "text"
      },
      "source": [
        "<a href=\"https://colab.research.google.com/github/LeNovice/Assignments_WILP_Sem1/blob/master/FINAL_v0_Assignment1_RBFS_DLS.ipynb\" target=\"_parent\"><img src=\"https://colab.research.google.com/assets/colab-badge.svg\" alt=\"Open In Colab\"/></a>"
      ]
    },
    {
      "cell_type": "markdown",
      "metadata": {
        "id": "ci_PrUy10Av6"
      },
      "source": [
        "# Artificial and Computational Intelligence Assignment 1"
      ]
    },
    {
      "cell_type": "markdown",
      "metadata": {
        "id": "219k2v2L0Av9"
      },
      "source": [
        "## Problem solving by Uninformed & Informed Search"
      ]
    },
    {
      "cell_type": "markdown",
      "metadata": {
        "id": "Olc2T3FU0Av-"
      },
      "source": [
        "List only the BITS (Name) of active contributors in this assignment:\n",
        "1. WADIKAR PINAK SUHAS [2020sc04158]\n",
        "2. NITESH GARG [2020SC04748]\n",
        "3. MANOJ KUMAR SHARMA [2020SC04723]\n",
        "4. SABYASACHI SAMADDAR [2020SC04167]\n"
      ]
    },
    {
      "cell_type": "markdown",
      "metadata": {
        "id": "Qb1PfBql0Av-"
      },
      "source": [
        "Things to follow\n",
        "1.\tUse appropriate data structures to represent the graph and the path using python libraries\n",
        "2.\tProvide proper documentation\n",
        "3.\tFind the path and print it"
      ]
    },
    {
      "cell_type": "markdown",
      "metadata": {
        "id": "jwWmWIDE0Av_"
      },
      "source": [
        "Coding begins here"
      ]
    },
    {
      "cell_type": "markdown",
      "metadata": {
        "id": "uxmKJcvY0Av_"
      },
      "source": [
        "### 1.\tDefine the environment in the following block"
      ]
    },
    {
      "cell_type": "markdown",
      "metadata": {
        "id": "ILh3M0tZ0AwA"
      },
      "source": [
        "# PEAS Description:\n",
        "\n",
        "The selected Network agent is a Goal-based PSA. Following are the PEAS factors which are considered while preparing this agent.\n",
        "\n",
        "###Performance Measure:\n",
        "* Minimizing the Total cost of the generated subgraph\n",
        "* Nodes are connected in the subgraph (no isolated node)\n",
        "* Acheiving a better signal to noise ratio along with minimizing the delay between sender and receiver\n",
        "\n",
        "###Environment:\n",
        "* Uplink/Downlink from connected nodes\n",
        "* Valid ping between all the nodes\n",
        "#####**Assumptions:**\n",
        "\n",
        "*   Fully Observable: The heuristics between nodes are calculated initially and are known to the Agent\n",
        "*   Deterministic: No stochastic/Random variables involved\n",
        "*   Static: Heuristics do not change during any action performed by the agent\n",
        "*   Discrete: State of environment is governed by heuristic/number of connections, both discrete\n",
        "\n",
        "\n",
        "\n",
        "\n",
        "\n",
        "###Actuators:\n",
        "* Ping distortion (delay or noise) to emulate the effect of heuristic between two nodes. \n",
        "* Counter to measure the number of active connections in any subgraph\n",
        "* Display input as well as goal node\n",
        "Hubs, routers, Master controllers to maintain ping between nodes\n",
        "\n",
        "###Sensors:\n",
        "* Ping distortion measuring devices, based on the distortion caused by the heuristic.\n",
        "* Signal to Noise Ratio detectors for noise distortions\n",
        "* Skew detectors for Delay distortion.\n",
        "* Keyboard entries\n"
      ]
    },
    {
      "cell_type": "markdown",
      "source": [
        "##Informed Search: Recursive Best First Search\n",
        "* Best First search requires a goal node which we take in as input from the user to calculate the heuristic value for each node, as per problem definition"
      ],
      "metadata": {
        "id": "MOauBGUcS06s"
      }
    },
    {
      "cell_type": "markdown",
      "metadata": {
        "id": "at4PvxmH0AwA"
      },
      "source": [
        "Q] Design the agent as PSA Agent(Problem Solving Agent) \n",
        "Clear Initial data structures to define the graph and variable declarations is expected \n",
        "IMPORTANT: Write distinct code block as below"
      ]
    },
    {
      "cell_type": "code",
      "source": [
        "import sys\n",
        "from heapq import heappush, heappop\n",
        "import copy\n",
        "\n",
        "MAX_DEPTH = 0\n",
        "heuristic_dict = {}\n",
        "ISOLATED_PENALTY = 20\n",
        "CYCLIC_PENALTY = ISOLATED_PENALTY\n",
        "MAX_HEUR = 999"
      ],
      "metadata": {
        "id": "Y-gKN_jtdzcA"
      },
      "execution_count": 442,
      "outputs": []
    },
    {
      "cell_type": "code",
      "source": [
        "#Definition of State: Every node in the network corresponds to a State\n",
        "class State:\n",
        "    def __init__(self, Name, Graph, Prev_state=None, Action=None, Heap=[], init_node = 0, DFS_Flag=0):\n",
        "        self.name = Name\n",
        "        self.graph = copy.deepcopy(Graph)\n",
        "        self.prev_state = Prev_state\n",
        "        self.heap = Heap                    #State heap will be stored to avoid future re - calculations.\n",
        "        self.AllNodesVisited = 0\n",
        "        if (init_node == 1):\n",
        "            self.h = MAX_HEUR\n",
        "            self.g = 0\n",
        "            self.depth=0                        #initial state\n",
        "#            self.action = [].append(self.name)\n",
        "        else:\n",
        "            self.h = self.CalcHeur()\n",
        "            self.g = self.CalcPathCost()     #We can find this from graph\n",
        "            Prev_state = self.prev_state\n",
        "            self.depth = Prev_state.depth + 1\n",
        "#            self.action = self.prev_state.action.append(Action)\n",
        "        self.f = self.h + self.g\n",
        "    #Override comparison functions to compare the states based on their f_value\n",
        "    def __eq__(self, other):\n",
        "        if (self.f == other.f):\n",
        "            return 1\n",
        "        else:\n",
        "            return 0\n",
        "    def __ge__(self,other):\n",
        "        if (self.f >= other.f):\n",
        "            return 1\n",
        "        else:\n",
        "            return 0\n",
        "    def __le__(self,other):\n",
        "        if (self.f <= other.f):\n",
        "            return 1\n",
        "        else:\n",
        "            return 0\n",
        "    def __lt__(self,other):\n",
        "        if (self.f < other.f):\n",
        "            return 1\n",
        "        else:\n",
        "            return 0\n",
        "    def __gt__(self,other):\n",
        "        if (self.f > other.f):\n",
        "            return 1\n",
        "        else:\n",
        "            return 0\n",
        "    def __ne__(self,other):\n",
        "        if (self.f != other.f):\n",
        "            return 1\n",
        "        else:\n",
        "            return 0\n",
        "    #Functions to calculate h(n) for this state\n",
        "    def CalcHeur(self):\n",
        "        \"\"\"\n",
        "        Heuristics of a state is calculated based on how many nodes are isolated. we penalize 26 units on number of non-connected nodes\n",
        "        This is just large of the maximum edge cost in the graph\n",
        "        In order to keep the number of edges minimum, we alo need to add a heuristic to penalize the cost of existing connections however we will look at this penalty as pathcost (stepcost/ cost required to do the action) i.e. g(n) and not add it in h(n)\n",
        "        Another part where we penalize the code is the number of cycles in the graph\n",
        "        \"\"\"\n",
        "        current_graph = self.graph\n",
        "        #Isolated nodes penalty\n",
        "        isolated_penalty = 0\n",
        "        for key in current_graph:\n",
        "            conn = current_graph[key]\n",
        "            if(len(conn) == 0):\n",
        "                isolated_penalty += ISOLATED_PENALTY\n",
        "        #Cycle penalty\n",
        "        node_name = self.name\n",
        "        if(isCyclic('Z', node_name, [], current_graph)):\n",
        "            print(\"Graph is Cyclic!\")\n",
        "            return isolated_penalty + CYCLIC_PENALTY\n",
        "        else:\n",
        "            #print(\"Graph is NOT Cyclic!\")\n",
        "            return isolated_penalty\n",
        "    #Function to calculate g(n) for this state\n",
        "    def CalcPathCost(self):\n",
        "        \"\"\"\n",
        "        This is the path cost. Everytime the agent adds another edge to the problem, the additional edge will have some penalty. We consider this as the path cost (g(n))to go towards goal node (goal node where all nodes are connected and h(n) = 0)\n",
        "        Usually this is calculated while traversal but due to the problem defintion, we can calculate this statically\n",
        "        Since the graph is bidirectional, the edges will be calculated twice. We will divide by 2 for this\n",
        "        \"\"\"\n",
        "        current_graph = self.graph\n",
        "        connected_cost = 0\n",
        "        for key in current_graph:\n",
        "            conn = current_graph[key]\n",
        "            if(len(conn) != 0):\n",
        "                for node, edgecost in conn:\n",
        "                    connected_cost += edgecost\n",
        "        return connected_cost/2\n",
        "def isCyclic(parent_node_name, node_name, VisitedList, thegraph):\n",
        "    succ_list = thegraph[node_name]\n",
        "#    print(thegraph)\n",
        "    #if i is parent_node, that is not considered to be a cycle since this is a bidirectional graph so go ahead with the flow\n",
        "    for i,val in succ_list:\n",
        "        if(i != parent_node_name):\n",
        "#            print(i)\n",
        "#            print(\"Visited List = \" +str(VisitedList))\n",
        "            if(i in VisitedList):\n",
        "                return True\n",
        "            else:\n",
        "                #add i in visited list and expand i\n",
        "                VisitedList.append(i)\n",
        "                new_visited_list = copy.deepcopy(VisitedList)\n",
        "                ret = isCyclic(node_name, i, new_visited_list, thegraph)\n",
        "                if ret==True:\n",
        "                    #If cycle has been detected, return the True value\n",
        "                    return ret\n",
        "                #Otherwise continue with the next node  \n",
        "         \n",
        "\n",
        "class State_DFS:\n",
        "    def __init__(self, name, Graph, Prev_node=None, Action=None, Cost=999):\n",
        "        \n",
        "        self.name = name\n",
        "        self.graph = Graph  #Also the status\n",
        "        self.prev_node = Prev_node\n",
        "        self.action = Action\n",
        "        self.cost = Cost\n",
        "        self.AllNodesVisited = 0\n",
        "        if (self.prev_node == None):\n",
        "            self.depth=0    #initial state\n",
        "        else:\n",
        "            Prev_state = self.prev_node\n",
        "            self.depth = Prev_state.depth + 1\n"
      ],
      "metadata": {
        "id": "bQ3AzHCFFOxK"
      },
      "execution_count": 443,
      "outputs": []
    },
    {
      "cell_type": "code",
      "execution_count": 444,
      "metadata": {
        "id": "wxaxHlzF0AwC"
      },
      "outputs": [],
      "source": [
        "#Code Block : Set the matrix for transition & cost (as relevant for the given problem)\n",
        "graph = {\n",
        "    'A' : [('B',15),('D',17),('C',10),('G',5)],\n",
        "    'B' : [('A',15),('D',12)],\n",
        "    'C' : [('A',10),('G',7)],\n",
        "    'D' : [('A',17),('B',12),('E',2),('F',10),('H',4)],\n",
        "    'E' : [('D',2)],\n",
        "    'F' : [('D',10),('H',11)],\n",
        "    'G' : [('A',5),('C',7),('H',25)],\n",
        "    'H' : [('D',4),('G',25),('F',11)]\n",
        "}\n",
        "graph_init ={\n",
        "    'A' : [],\n",
        "    'B' : [],\n",
        "    'C' : [],\n",
        "    'D' : [],\n",
        "    'E' : [],\n",
        "    'F' : [],\n",
        "    'G' : [],\n",
        "    'H' : []\n",
        "}\n",
        "#____________________________________________________DFS variables________________________________________________________________\n",
        "graph_DFS = {\n",
        "    'A' : ['B','D','C','G'],\n",
        "    'B' : ['A','D'],\n",
        "    'C' : ['A','G'],\n",
        "    'D' : ['A','B','E','F','H'],\n",
        "    'E' : ['D'],\n",
        "    'F' : ['D','H'],\n",
        "    'G' : ['A','C','H'],\n",
        "    'H' : ['D','G','F']\n",
        "}\n",
        "\n",
        "def graph_AddEdge(state, edge):\n",
        "    \"\"\"\n",
        "    edge is expected to be in the form of (dstnodeB, edgecost)\n",
        "    \"\"\"\n",
        "    curr_graph = state.graph\n",
        "    curr_nodename = state.name\n",
        "    nodeB = edge[0]\n",
        "    edgecost = edge[-1]\n",
        "    for key, conn in curr_graph:\n",
        "        if (key == curr_nodename):\n",
        "            for node_name, edgecost in conn:\n",
        "                if (node_name == nodeB):\n",
        "                    sys.exit(\"GRAPH_ADDEDGE: Connection from \" + curr_nodename + \" to \" + nodeB + \" already exists!\")\n",
        "    curr_graph[curr_nodename].append(edge)\n",
        "    return curr_graph\n",
        "\n",
        "def Go(current_node_state, new_node_name, absHeur, algo):\n",
        "    \"\"\"\n",
        "    We call this function when our algorithm has decided on which node to traverse to based on whether it is Best First or any other algo..\n",
        "    This function associates State to the new node and returns state\n",
        "    This is a function specific to the state, can be integrated under the same class\n",
        "    \"\"\"\n",
        "    curr_node_name = current_node_state.name\n",
        "    curr_graph = copy.deepcopy(current_node_state.graph)\n",
        "    if (new_node_name in curr_graph[curr_node_name]):\n",
        "        #If new_node_name is in currently visited list name then it seems like we have hit a loop for example: A->G->C->A Curr= C, new_node = A\n",
        "        #We return None and add checks in the calling function. For recursive functions, this means we have to go to previous state, i.e. G\n",
        "        print(\"GO: New node in current visited list\")\n",
        "        return None\n",
        "    else:\n",
        "        #curr_visited_list.append(new_node_name)\n",
        "#        print(\"Before \\n\" + str(curr_graph))\n",
        "        curr_graph[curr_node_name].append(new_node_name)\n",
        "        curr_graph[new_node_name].append(curr_node_name)\n",
        "        new_graph = copy.deepcopy(curr_graph)\n",
        "#        print(\"after \\n\" + str(curr_graph))\n",
        "        return State_DFS(new_node_name, new_graph, current_node_state, \"Go(\" + new_node_name + \")\" , 1)\n"
      ]
    },
    {
      "cell_type": "code",
      "execution_count": 445,
      "metadata": {
        "id": "KOIYaWSe0AwC"
      },
      "outputs": [],
      "source": [
        "#Code Block : Write function to design the Transition Model/Successor function. Ideally this would be called while search algorithms are implemented\n",
        "\n",
        "def succ_fn(node, algo):\n",
        "    \"\"\"\n",
        "    #input: Current state of network Agent\n",
        "    #output: A heap of Action, Heuristic. For example, [\"Go(B)\", (heuristic)]\n",
        "    #Transition Model will return sorted list of possible nodes that we can visit from current node.\n",
        "    The output is in the form of a min-heap. Each element is (possible_successor_node_name, Heuristic)\n",
        "    \"\"\"\n",
        "    heap = []\n",
        "    curr_node_name = node.name\n",
        "    \n",
        "    #Explore graph to see what the successors of this node are and also get corresponding heuristic\n",
        "    if (algo == \"BFS\"):\n",
        "        curr_graph = node.graph\n",
        "        succ_list = graph[curr_node_name]\n",
        "        #Above will give you all possible connections from current node. This is from main graph\n",
        "        for node_edgecost in succ_list:\n",
        "            if (node_edgecost not in curr_graph[curr_node_name]):\n",
        "                new_node_name = node_edgecost[0]\n",
        "                edgecost = node_edgecost[1]\n",
        "                temp_curr_graph = copy.deepcopy(curr_graph)\n",
        "#                if(node.g == 0):\n",
        "                    #This is initial node. Expand all successors unconditionally\n",
        "                    #Add node from curr node to new node\n",
        "                temp_curr_graph[curr_node_name].append(node_edgecost)\n",
        "                    #Similarly add node from new node to curr node\n",
        "                temp_curr_graph[new_node_name].append((curr_node_name,edgecost))\n",
        "#                print(curr_graph)\n",
        "#                print(\"node_edgecost = \" + str(node_edgecost))\n",
        "#                print(temp_curr_graph)\n",
        "                new_graph = temp_curr_graph\n",
        "                heappush(heap, State( new_node_name, new_graph, node, \"(\" + curr_node_name + \"->\" + new_node_name + \")\"))\n",
        "#                elif(new_node_name != node.prev_state.name):\n",
        "#                    temp_curr_graph[curr_node_name].append(node_edgecost)\n",
        "#                    temp_curr_graph[new_node_name].append((curr_node_name,edgecost))\n",
        "#                    new_graph = temp_curr_graph\n",
        "#                    heappush(heap, State( new_node_name, new_graph, node, \"(\" + curr_node_name + \"->\" + new_node_name + \")\"))\n",
        "        return heap\n",
        "    elif (algo == \"DFS\"):\n",
        "        succ_list = graph_DFS[curr_node_name]\n",
        "        return sorted(succ_list)\n",
        "   "
      ]
    },
    {
      "cell_type": "code",
      "execution_count": 446,
      "metadata": {
        "id": "uJa2gQGg0AwD"
      },
      "outputs": [],
      "source": [
        "#Code block : Write fucntion to handle goal test (Must handle dynamic inputs). Ideally this would be called while search algorithms are implemented\n",
        "def isGoalTest(node_state):\n",
        "    return (node_state.h ==0)\n",
        "\n",
        "\"\"\"\n",
        "def prep_goal_state():\n",
        "    #Goal state is independent of inputs, Our goal state is to include all the nodes in the communication network\n",
        "    goal_list = []\n",
        "    for key in graph:\n",
        "        goal_list.append(key)\n",
        "    return sorted(goal_list)\n",
        "\n",
        "def isGoalTest_DFS(node_state):\n",
        "    goal_list = prep_goal_state()                   #fixme: No need to call this for every comparison\n",
        "    current_visited_set = set(node_state.visited_list)\n",
        "\n",
        "    if len(current_visited_set) != len(goal_list):\n",
        "        return False\n",
        "    return (sorted(current_visited_set) == sorted(goal_list))\n",
        "\"\"\"\n",
        "def isGoalTest_DFS(node_state):\n",
        "    current_graph = node_state.graph\n",
        "    #print(current_graph)\n",
        "    for key in current_graph:\n",
        "        conn = current_graph[key]\n",
        "        if(len(conn) == 0):\n",
        "            return False\n",
        "    return True"
      ]
    },
    {
      "cell_type": "markdown",
      "metadata": {
        "id": "tE6k36nK0AwD"
      },
      "source": [
        "### 2.\tDefinition of Algorithm 1 \n",
        "INFORMED SEARCH - RECURSIVE BEST FIRST SEARCH)"
      ]
    },
    {
      "cell_type": "code",
      "execution_count": 447,
      "metadata": {
        "id": "gYPkBtmn0AwD"
      },
      "outputs": [],
      "source": [
        "#Code Block : Function for algorithm 1 implementation\n",
        "expanded_list = []\n",
        "RECURSION_LIM = 100\n",
        "REC_COUNT = 0\n",
        "def RBFS(node_state, f_limit):\n",
        "    \"\"\"\n",
        "    Assumes that you have already calculated te successor functions of node_state before calling this function.\n",
        "    For every new node encounteed, you need to do following steps:\n",
        "    new_node_state = Go(new_node)\n",
        "    new_node_state.heap = succ_fn(new_node_state)\n",
        "    BestFirst(new_node_state)\n",
        "    \"\"\"\n",
        "    print(\"expanding \" + node_state.name +\" with f_limit = \" + str(f_limit))\n",
        "\n",
        "    global MAX_DEPTH\n",
        "    global MAX_HEUR\n",
        "    if(isGoalTest(node_state)):\n",
        "        print(\"Goal!!\")\n",
        "        node_state.AllNodesVisited=1\n",
        "        return node_state, node_state.f\n",
        "    \n",
        "    if (len(node_state.heap) > 0):\n",
        "        #This means that this state was previously visited\n",
        "        succ_heap = node_state.heap\n",
        "    else:\n",
        "        succ_heap = succ_fn(node_state, \"BFS\")\n",
        "\n",
        "    \n",
        "    single_flag=0\n",
        "    display_heap = copy.deepcopy(succ_heap)\n",
        "    if len(display_heap)==1:\n",
        "        sing_node = heappop(display_heap)\n",
        "        if (sing_node.name == node_state.prev_state.name):\n",
        "            print(sing_node.name + \" lead to its parent, i.e. \" + node_state.prev_state.name + \"This qualifies as a singular node\")\n",
        "            #sing_node is definitely a singular node with no successors (only one successor which is its prev node itself)\n",
        "            single_flag=1\n",
        "        heappush(display_heap, sing_node)\n",
        "    #DEBUG Start\n",
        "    while(len(display_heap)>0):\n",
        "        i = heappop(display_heap)\n",
        "        print(i.name + \":\" + str(i.f), end = '\\t')\n",
        "        \n",
        "    #DEBUG End\n",
        "\n",
        "    global REC_COUNT\n",
        "    REC_COUNT = REC_COUNT + 1\n",
        "    if (REC_COUNT>=RECURSION_LIM):\n",
        "        sys.exit(\"Too many recursions\")\n",
        "\n",
        "    while (len(succ_heap) > 0):\n",
        "        best_state = heappop(succ_heap)\n",
        "        best_f = best_state.f\n",
        "\n",
        "        if (best_f > f_limit):             #>= has been added. equal condition has been added to avoid a going back to parent node after a singluar node (like E) has been expanded (because when E is expanded, )\n",
        "            node_state.heap = succ_heap\n",
        "            return best_state, best_f\n",
        "\n",
        "        if (len(succ_heap) == 0):\n",
        "            alternative_f = f_limit\n",
        "            #Create a bogus alternative state to get rid of \"local variable 'alternative_state' referenced before assignment\"\n",
        "            alternative_state = State( \"XY\", graph_init, Prev_state=None, Action=None, Heap=[], init_node = 1)\n",
        "            alternative_state.h = MAX_HEUR\n",
        "            alternative_state.g = MAX_HEUR\n",
        "            alternative_state.f = MAX_HEUR\n",
        "            print(\"\\nbest = \" + best_state.name + \" : \" + str(best_f) + \"\\tAlternative = NONE\" + \" : \" + str(alternative_f))\n",
        "        else:\n",
        "            alternative_state = heappop(succ_heap)\n",
        "            alternative_f = alternative_state.f\n",
        "            print(\"\\nbest = \" + best_state.name + \" : \" + str(best_f) + \"\\tAlternative = \" + alternative_state.name + \" : \" + str(alternative_f))\n",
        "\n",
        "        result, new_best_f = RBFS(best_state, min(f_limit,alternative_f))\n",
        "        MAX_DEPTH = max(MAX_DEPTH,result.depth)\n",
        "        print(\"\\nReturned from \" + best_state.name + \" to \" + node_state.name + \" With new f_value value : \" + str(new_best_f))\n",
        "\n",
        "        if (result.AllNodesVisited==0):             #Equivalent to: if result==failure\n",
        "            if(new_best_f != MAX_HEUR):\n",
        "                #We push Alternative state before best state so that in case both have same value, the alternative case will be picked first (to avoid looping)\n",
        "                #Also push the alternative value into heap which was popped earlier. This will be your new best value which will be popped at next iteration of while\n",
        "                if(single_flag == 0):\n",
        "                    #Only add alternative state if it existed in first case.\n",
        "                    #print(\"Alternative state \" + alternative_state.name + \" with f_value = \" + str(alternative_f) + \" pushed back into heap\")\n",
        "                    heappush(succ_heap, alternative_state)\n",
        "                else:\n",
        "                    print(\"Seems like all successors of \" + node_state.name + \" have been visited, breaking....\")\n",
        "                    #if current node has only one successor, we have visited it via best. so now we must return to parent and not come back to this\n",
        "                    node_state.heap = succ_heap\n",
        "                    break\n",
        "                #update the best state with the new best f_value and push the best node with the updated f_value back into successor list\n",
        "                best_state.f = new_best_f\n",
        "                heappush(succ_heap, best_state)\n",
        "            elif(new_best_f == MAX_HEUR):\n",
        "                node_state.graph = copy.deepcopy(result.graph)\n",
        "                #node_state.f = result.f                     #CHECK!!!\n",
        "                #We will also have to recalculate the successor list because now, for the successors, the singular node will be connected (for h(n)) calculation\n",
        "                succ_heap = succ_fn(node_state, \"BFS\")\n",
        "        elif(result.AllNodesVisited==1):        #Goal node has been achieved in recursions of this path\n",
        "            node_state.heap = succ_heap\n",
        "            return result, new_best_f\n",
        "    #If succ_heap is empty\n",
        "    node_state.heap = succ_heap\n",
        "    return node_state, MAX_HEUR             #node_state.f"
      ]
    },
    {
      "cell_type": "markdown",
      "metadata": {
        "id": "3Q4v23KD0AwD"
      },
      "source": [
        "### 3.\tDefinition of Algorithm 2 \n",
        "\n",
        "UNINFORMED SEARCH: DEPTH LIMITEd SEARCH"
      ]
    },
    {
      "cell_type": "code",
      "execution_count": 448,
      "metadata": {
        "id": "swA41lw-0AwE"
      },
      "outputs": [],
      "source": [
        "#Code Block : Function for algorithm 2 implementation\n",
        "def DepthLimited(node_state, limit):\n",
        "    \"\"\"\n",
        "    Assumes that you have already calculated te successor functions of node_state before calling this function.\n",
        "    For every new node encounteed, you need to do following steps:\n",
        "    new_node_state = Go(new_node)\n",
        "    new_node_state.heap = succ_fn(new_node_state)\n",
        "    DepthLimited(new_node_state)\n",
        "    \"\"\"\n",
        "    #Check if current node state is Goal node\n",
        "    if(isGoalTest_DFS(node_state)):\n",
        "        for key in node_state.graph:\n",
        "            conn = node_state.graph[key]\n",
        "            print(key + \":\\t\" + str(conn))\n",
        "        node_state.AllNodesVisited=1\n",
        "        return node_state\n",
        "    else:\n",
        "        #Get all the successor functions for the current state:\n",
        "        curr_name = node_state.name\n",
        "        \n",
        "        #print(\"Expanding :\" + str(curr_name))\n",
        "        succ_heap = succ_fn(node_state, \"DFS\")\n",
        "        #print(\"succ_heap\\t\" + str(succ_heap))\n",
        "        \n",
        "        while ((len(succ_heap) > 0) and (limit > 0)):\n",
        "            curr_graph = copy.deepcopy(node_state.graph)\n",
        "            next_node_name = heappop(succ_heap)\n",
        "            if (next_node_name not in curr_graph[curr_name]):\n",
        "                #New Node encountered. Create a state for it\n",
        "                next_node_state = Go(node_state, next_node_name, 1, \"DFS\")\n",
        "                if(next_node_state is None):\n",
        "                    sys.exit(\"DFS ALGO: \" + next_node_name + \" found in visited list\")\n",
        "                else:\n",
        "                    #Apply BFS recursively on next node\n",
        "                    ret = DepthLimited(next_node_state, limit-1)\n",
        "                    #print(\"returned from \" + next_node_state.name + \" to \" + curr_name)\n",
        "                    if(isinstance(ret, State_DFS)):\n",
        "                        if(ret.AllNodesVisited == 1):\n",
        "                            return ret\n",
        "                    #else:\n",
        "\n",
        "                        else:\n",
        "                            updated_curr_graph = copy.deepcopy(ret.graph)\n",
        "                            #curr_graph.append(node_state.name)\n",
        "                            node_state.graph =  updated_curr_graph = copy.deepcopy(ret.graph)\n",
        "\n",
        "        return node_state"
      ]
    },
    {
      "cell_type": "markdown",
      "metadata": {
        "id": "mhdimZRp0AwE"
      },
      "source": [
        "### DYNAMIC INPUT"
      ]
    },
    {
      "cell_type": "markdown",
      "metadata": {
        "id": "p1T7Mn-B0AwE"
      },
      "source": [
        "IMPORTANT : Dynamic Input must be got in this section. Display the possible states to choose from:\n",
        "This is applicable for all the relevent problems as mentioned in the question. "
      ]
    },
    {
      "cell_type": "code",
      "execution_count": 449,
      "metadata": {
        "id": "FjvwkHR50AwE",
        "colab": {
          "base_uri": "https://localhost:8080/"
        },
        "outputId": "5533f123-078a-4ebb-badd-0b7f1ac0cdc1"
      },
      "outputs": [
        {
          "name": "stdout",
          "output_type": "stream",
          "text": [
            "Please enter the start node (A,B,C,D,E,F,G,H):C\n"
          ]
        }
      ],
      "source": [
        "#Code Block : Function & call to get inputs (start/end state)\n",
        "init_node_name = input(\"Please enter the start node (A,B,C,D,E,F,G,H):\").upper();\n",
        "#goal_node_name = 'A'#input(\"Please enter the goal node upto which the path needs to be printed (A,B,C,D,E,F,G,H):\").upper();\n"
      ]
    },
    {
      "cell_type": "markdown",
      "metadata": {
        "id": "hyJAMGej0AwE"
      },
      "source": [
        "### 4.\tCalling the search algorithms\n",
        "(For bidirectional search in below sections first part can be used as per Hint provided. Under second section other combinations as per Hint or your choice of 2 algorithms can be called .As an analyst suggest suitable approximation in the comparitive analysis section)"
      ]
    },
    {
      "cell_type": "code",
      "execution_count": 450,
      "metadata": {
        "id": "g4LugMDr0AwB"
      },
      "outputs": [],
      "source": [
        "#Code Block : Set Initial State (Must handle dynamic inputs)\n",
        "dummy_Prev_state = State('Y', graph_init, Prev_state=None, Action=[], Heap=[], init_node=1)\n",
        "dummy_Prev_state.f =MAX_HEUR\n",
        "dummy_Prev_state.g =MAX_HEUR\n",
        "dummy_Prev_state.h =MAX_HEUR\n",
        "\n",
        "init_state = State(init_node_name, graph_init, dummy_Prev_state, Action=[], Heap=[], init_node=1)"
      ]
    },
    {
      "cell_type": "code",
      "execution_count": 451,
      "metadata": {
        "id": "7D-zaO_z0AwF",
        "colab": {
          "base_uri": "https://localhost:8080/"
        },
        "outputId": "43c5e56b-7aa2-4182-9fa1-5869f79ad9ff"
      },
      "outputs": [
        {
          "output_type": "stream",
          "name": "stdout",
          "text": [
            "expanding C with f_limit = 999\n",
            "G:127.0\tA:130.0\t\n",
            "best = G : 127.0\tAlternative = A : 130.0\n",
            "expanding G with f_limit = 130.0\n",
            "A:112.0\tH:132.0\t\n",
            "best = A : 112.0\tAlternative = H : 132.0\n",
            "expanding A with f_limit = 130.0\n",
            "Graph is Cyclic!\n",
            "B:107.0\tD:109.0\tC:142.0\t\n",
            "best = B : 107.0\tAlternative = D : 109.0\n",
            "expanding B with f_limit = 109.0\n",
            "D:99.0\t\n",
            "best = D : 99.0\tAlternative = NONE : 109.0\n",
            "expanding D with f_limit = 109.0\n",
            "Graph is Cyclic!\n",
            "E:81.0\tH:83.0\tF:89.0\tA:136.0\t\n",
            "best = E : 81.0\tAlternative = H : 83.0\n",
            "expanding E with f_limit = 83.0\n",
            "\n",
            "Returned from E to D With new f_value value : 999\n",
            "Graph is Cyclic!\n",
            "\n",
            "best = H : 65.0\tAlternative = F : 71.0\n",
            "expanding H with f_limit = 71.0\n",
            "Graph is Cyclic!\n",
            "F:56.0\tG:110.0\t\n",
            "best = F : 56.0\tAlternative = G : 110.0\n",
            "expanding F with f_limit = 71.0\n",
            "Goal!!\n",
            "\n",
            "Returned from F to H With new f_value value : 56.0\n",
            "\n",
            "Returned from H to D With new f_value value : 56.0\n",
            "\n",
            "Returned from D to B With new f_value value : 56.0\n",
            "\n",
            "Returned from B to A With new f_value value : 56.0\n",
            "\n",
            "Returned from A to G With new f_value value : 56.0\n",
            "\n",
            "Returned from G to C With new f_value value : 56.0\n",
            "Goal Achieved!\n",
            "Optimal Sub Graph:\n",
            "\n",
            "A:\t[('G', 5), ('B', 15)]\n",
            "B:\t[('A', 15), ('D', 12)]\n",
            "C:\t[('G', 7)]\n",
            "D:\t[('B', 12), ('E', 2), ('H', 4)]\n",
            "E:\t[('D', 2)]\n",
            "F:\t[('H', 11)]\n",
            "G:\t[('C', 7), ('A', 5)]\n",
            "H:\t[('D', 4), ('F', 11)]\n",
            "Max Depth = 6\n"
          ]
        }
      ],
      "source": [
        "#Invoke algorithm 1 (Should Print the solution, path, cost etc., (As mentioned in the problem))\n",
        "MAX_DEPTH = 0\n",
        "ret, f_val = RBFS(init_state, MAX_HEUR)\n",
        "if (ret is None):\n",
        "    print(\"Could not find a sub graph which connects all nodes\")\n",
        "elif (isinstance(ret, State)):\n",
        "    if(ret.AllNodesVisited == 1):\n",
        "        print(\"Goal Achieved!\\nOptimal Sub Graph:\\n\")\n",
        "        Optimal_Graph = ret.graph\n",
        "        for key in Optimal_Graph:\n",
        "            conn = Optimal_Graph[key]\n",
        "            print(key + \":\\t\" + str(conn))\n",
        "        print(\"Max Depth = \" +str(MAX_DEPTH))\n",
        "    else:\n",
        "        print(\"Could not find a sub graph which connects all nodes\")"
      ]
    },
    {
      "cell_type": "code",
      "execution_count": 452,
      "metadata": {
        "id": "Lib9efbr0AwF",
        "colab": {
          "base_uri": "https://localhost:8080/"
        },
        "outputId": "d4c3112b-6345-48f6-ce82-df9a5113dd09"
      },
      "outputs": [
        {
          "output_type": "stream",
          "name": "stdout",
          "text": [
            "Attempt with LIMIT = 1\n",
            "Cutoff achieved\n",
            " Following is the incomplete graph\n",
            "A:\t['C']\n",
            "B:\t[]\n",
            "C:\t['A', 'G']\n",
            "D:\t[]\n",
            "E:\t[]\n",
            "F:\t[]\n",
            "G:\t['C']\n",
            "H:\t[]\n",
            "Retrying with larger LIMIT value ....\n",
            "\n",
            "Attempt with LIMIT = 2\n",
            "Cutoff achieved\n",
            " Following is the incomplete graph\n",
            "A:\t['C', 'B', 'D', 'G']\n",
            "B:\t['A']\n",
            "C:\t['A', 'G']\n",
            "D:\t['A']\n",
            "E:\t[]\n",
            "F:\t[]\n",
            "G:\t['A', 'C', 'H']\n",
            "H:\t['G']\n",
            "Retrying with larger LIMIT value ....\n",
            "\n",
            "Attempt with LIMIT = 3\n",
            "A:\t['C', 'B', 'D', 'G']\n",
            "B:\t['A', 'D']\n",
            "C:\t['A']\n",
            "D:\t['B', 'A', 'E', 'F', 'H']\n",
            "E:\t['D']\n",
            "F:\t['D']\n",
            "G:\t['A']\n",
            "H:\t['D']\n",
            "Goal Achieved!\n",
            "Optimal Sub Graph shown in the form of adjacency list:\n",
            "A:\t['C', 'B', 'D', 'G']\n",
            "B:\t['A', 'D']\n",
            "C:\t['A']\n",
            "D:\t['B', 'A', 'E', 'F', 'H']\n",
            "E:\t['D']\n",
            "F:\t['D']\n",
            "G:\t['A']\n",
            "H:\t['D']\n",
            "LIMIT_Value = 3\n"
          ]
        }
      ],
      "source": [
        "#Invoke algorithm 2 (Should Print the solution, path, cost etc., (As mentioned in the problem))\n",
        "#init_state = State_DFS(init_node_name, graph_init, Prev_state=None,  Action=[], Heap=[], init_node = 1, DFS_Flag=1)\n",
        "init_state = State_DFS(init_node_name, graph_init, Prev_node=None, Action=None, Cost=999)\n",
        "LIMIT = 1\n",
        "MAX_LIMIT = 5\n",
        "ret = DepthLimited(init_state, LIMIT)\n",
        "#if (ret is None):\n",
        "#    print(\"Could not find a sub graph which connects all nodes\")\n",
        "#elif (isinstance(ret, State)):\n",
        "#    if(ret.AllNodesVisited == 1):\n",
        "#        print(\"Goal Achieved!\\nOptimal Sub Graph:\\n\")\n",
        "#        print(ret.visited_list)\n",
        "#    else:\n",
        "#        print(\"Cutoff achieved\\n Following is the incomplete graph\")\n",
        "#        print(ret.visited_list)\n",
        "#print(\"graph_init = \" + str(graph_init))\n",
        "while((ret.AllNodesVisited != 1) and (LIMIT<MAX_LIMIT)):\n",
        "    init_state = State_DFS(init_node_name, graph_init, Prev_node=None, Action=None, Cost=999)\n",
        "    print(\"Attempt with LIMIT = \" + str(LIMIT))\n",
        "    ret = DepthLimited(init_state, LIMIT)\n",
        "    if (ret is None):\n",
        "        sys.exit(\"Something Went Wrong! Could not find a sub graph which connects all nodes\")\n",
        "    elif (isinstance(ret, State_DFS)):\n",
        "        if(ret.AllNodesVisited == 1):\n",
        "            print(\"Goal Achieved!\\nOptimal Sub Graph shown in the form of adjacency list:\")\n",
        "            Optimal_subgraph = ret.graph\n",
        "            for key in Optimal_subgraph:\n",
        "                conn = Optimal_subgraph[key]\n",
        "                print(key + \":\\t\" + str(conn))\n",
        "            print(\"LIMIT_Value = \" + str(LIMIT))\n",
        "        else:\n",
        "            print(\"Cutoff achieved\\n Following is the incomplete graph\")\n",
        "            Final_subgraph = ret.graph\n",
        "            for key in Final_subgraph:\n",
        "                conn = Final_subgraph[key]\n",
        "                print(key + \":\\t\" + str(conn))\n",
        "            print(\"Retrying with larger LIMIT value ....\\n\")\n",
        "            LIMIT = LIMIT + 1"
      ]
    },
    {
      "cell_type": "markdown",
      "source": [
        "###How to read above optimal subgraph:\n",
        "\n",
        "For input node C, we have following Optimal Sub graph at Depth Limit = 3\n",
        "\n",
        "Optimal Sub Graph:\n",
        "\n",
        "{\n",
        "\n",
        "A:\t['C', 'B', 'D', 'G']\n",
        "\n",
        "B:\t['A', 'D']\n",
        "\n",
        "C:\t['A']\n",
        "\n",
        "D:\t['B', 'A', 'E', 'F', 'H']\n",
        "\n",
        "E:\t['D']\n",
        "\n",
        "F:\t['D']\n",
        "\n",
        "G:\t['A']\n",
        "\n",
        "H:\t['D']\n",
        "\n",
        "}\n",
        "\n",
        "LIMIT_Value = 3\n",
        "\n",
        "Above List shows the connection between every node to every other node. The connections constitute an MST. At depth limit =3 i.e. at 3 recursion depth we see that all the nodes are connected in a single sub graph which is our goal state."
      ],
      "metadata": {
        "id": "X6-xFLOu_wBu"
      }
    },
    {
      "cell_type": "markdown",
      "metadata": {
        "id": "eSxXmvUa0AwF"
      },
      "source": [
        "### 5.\tComparitive Analysis"
      ]
    },
    {
      "cell_type": "code",
      "execution_count": 453,
      "metadata": {
        "id": "vODFwxR10AwF",
        "colab": {
          "base_uri": "https://localhost:8080/"
        },
        "outputId": "d6c625b9-c4d2-4d71-bd77-82c82db846b0"
      },
      "outputs": [
        {
          "output_type": "stream",
          "name": "stdout",
          "text": [
            "branching_factor = 5\n",
            "MAX_DEPTH of the fully connected sub graph: 6\n",
            "Time Complexity of Recursive Best First Search = Big-Oh(b^l): 15625\n",
            "Space Complexity of Recursive Best First Search = Big-Oh(b*l): 30\n"
          ]
        }
      ],
      "source": [
        "#Code Block : Print the Time & Space complexity of algorithm 1 \n",
        "curr_max = 0\n",
        "for key in graph:\n",
        "    curr_max = max(curr_max, len(list(graph[key])))\n",
        "branching_factor = curr_max\n",
        "print(\"branching_factor = \" + str(branching_factor))\n",
        "print(\"MAX_DEPTH of the fully connected sub graph: \" + str(MAX_DEPTH))\n",
        "print(\"Time Complexity of Recursive Best First Search = Big-Oh(b^l): \" + str(branching_factor ** MAX_DEPTH))\n",
        "print(\"Space Complexity of Recursive Best First Search = Big-Oh(b*l): \" + str(branching_factor*MAX_DEPTH))"
      ]
    },
    {
      "cell_type": "code",
      "execution_count": 454,
      "metadata": {
        "id": "G55pzJ2R0AwG",
        "colab": {
          "base_uri": "https://localhost:8080/"
        },
        "outputId": "0593bac1-7797-42ff-c6a9-6836ca0e679d"
      },
      "outputs": [
        {
          "output_type": "stream",
          "name": "stdout",
          "text": [
            "branching_factor = 5\n",
            "LIMIT at which fully connected sub graph was achieved: 3\n",
            "Time Complexity of Depth Limited Search (at limit LIMIT) = Big-O(b^l) 125\n",
            "Space Complexity of Depth Limited Search (at limit LIMIT) = Big-O(b*l) 15\n"
          ]
        }
      ],
      "source": [
        "#Code Block : Print the Time & Space complexity of algorithm 2\n",
        "curr_max = 0\n",
        "for key in graph_DFS:\n",
        "    curr_max = max(curr_max, len(list(graph_DFS[key])))\n",
        "branching_factor = curr_max\n",
        "print(\"branching_factor = \" + str(branching_factor))\n",
        "print(\"LIMIT at which fully connected sub graph was achieved: \" + str(LIMIT))\n",
        "print(\"Time Complexity of Depth Limited Search (at limit LIMIT) = Big-O(b^l)\", branching_factor**LIMIT)\n",
        "print(\"Space Complexity of Depth Limited Search (at limit LIMIT) = Big-O(b*l)\", branching_factor*LIMIT)"
      ]
    },
    {
      "cell_type": "markdown",
      "metadata": {
        "id": "V0EC69CK0AwG"
      },
      "source": [
        "### 6.\tProvide your comparitive analysis or findings in no more than 3 lines in below section"
      ]
    },
    {
      "cell_type": "markdown",
      "metadata": {
        "id": "b5JRLN0D0AwG"
      },
      "source": [
        "Comparison : Apart from time and space complexity, in terms of optimal and completeness, recursive Best First is better that Depth Limited Search.\n",
        "\n",
        "###|Algorithm| Optimal | Completeness|\n",
        "\n",
        "|BFS| Yes | Yes |\n",
        "\n",
        "|DFS| No | No |\n",
        "\n",
        "##**For Start Node: C and Stop node: A**\n",
        "###**Optimal connected Sub Graph of Recursive Best First Search:**\n",
        "\n",
        "['C', 'A', 'G', 'H', 'D', 'E', 'D', 'F', 'D', 'B']\n",
        "\n",
        "###**Optimal connected Sub Graph of Depth Limited Search:**\n",
        "\n",
        "['C', 'A', 'B', 'D', 'E', 'D', 'F', 'D', 'H', 'D', 'B', 'A', 'G']"
      ]
    }
  ],
  "metadata": {
    "kernelspec": {
      "display_name": "Python 3",
      "language": "python",
      "name": "python3"
    },
    "language_info": {
      "codemirror_mode": {
        "name": "ipython",
        "version": 3
      },
      "file_extension": ".py",
      "mimetype": "text/x-python",
      "name": "python",
      "nbconvert_exporter": "python",
      "pygments_lexer": "ipython3",
      "version": "3.7.6"
    },
    "colab": {
      "name": "Copy of ACI_Assignment1_RBFS_DLS.ipynb",
      "provenance": [],
      "collapsed_sections": [
        "3Q4v23KD0AwD"
      ],
      "include_colab_link": true
    }
  },
  "nbformat": 4,
  "nbformat_minor": 0
}